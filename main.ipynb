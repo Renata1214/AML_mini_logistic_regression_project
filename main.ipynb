{
 "cells": [
  {
   "cell_type": "code",
   "execution_count": null,
   "metadata": {
    "vscode": {
     "languageId": "plaintext"
    }
   },
   "outputs": [],
   "source": [
    "from sklearn.datasets import load_breast_cancer\n",
    "from sklearn.preprocessing import StandardScaler\n",
    "import matplotlib.pyplot as plt\n",
    "import numpy as np\n",
    "import pandas as pd\n",
    "from sklearn.model_selection import train_test_split\n",
    "from sklearn.metrics import precisthetaion_score\n",
    "from sklearn.metrics import recall_score\n",
    "from sklearn.metrics import f1_score\n",
    "from sklearn.metrics import accuracy_score\n",
    "from sklearn.metrics import confusion_matrix\n",
    "import matplotlib.pyplot as plt\n",
    "import numpy as np\n",
    "import warnings\n",
    "\n",
    "# —-------\n",
    "## Avoid printing out warnings\n",
    "with warnings.catch_warnings():\n",
    "     warnings.filterwarnings(\"ignore\")\n",
    "     bc = load_breast_cancer()\n",
    "     X_main, y_main = bc.data, bc.target\n",
    "\n",
    "\n",
    "# 1.Explore and import Breast Cancer Wisconsin dataset:\n",
    "# a)Explore the dataset by using the Scikit Learn library and Numpy\n",
    "scaler = StandardScaler()\n",
    "X_main = scaler.fit_transform(X_main)\n",
    "#Add columns of 1 to account for bias, and then you will only need the theta\n",
    "X_b = np.c_[np.ones((X_main.shape[0], 1)), X_main]\n",
    "\n",
    "# Split into training and testing datasets\n",
    "X_train, X_test, y_train, y_test = train_test_split(X_b, y_b, test_size=0.3, random_state=42)\n",
    "print (X_train)\n",
    "print (X_test)\n",
    "print(y_train)\n",
    "print(y_test)"
   ]
  },
  {
   "cell_type": "code",
   "execution_count": null,
   "metadata": {
    "vscode": {
     "languageId": "plaintext"
    }
   },
   "outputs": [],
   "source": [
    "def sigmoid(z):\n",
    "    return 1 / (1 + np.exp(-z))\n",
    "\n",
    "def loss_function (y, y_dash):\n",
    "    loss = - (y * np.log(y_dash)) - ((1 - y) * np.log(1 - y_dash))\n",
    "    return loss"
   ]
  },
  {
   "cell_type": "code",
   "execution_count": null,
   "metadata": {
    "vscode": {
     "languageId": "plaintext"
    }
   },
   "outputs": [],
   "source": [
    "def cost_func(y, y_dash):\n",
    "    m = len(y)\n",
    "    cost = 0\n",
    "    for i in range(m):\n",
    "        cost += loss_function(y[i], y_dash[i])\n",
    "    cost = cost / m\n",
    "    return cost"
   ]
  },
  {
   "cell_type": "code",
   "execution_count": null,
   "metadata": {
    "vscode": {
     "languageId": "plaintext"
    }
   },
   "outputs": [],
   "source": [
    "def gradient_descent (x_1, y_1, lr,iterations):\n",
    "    m, n= x_1.shape\n",
    "    # Initialize weights and bias to zeros\n",
    "    weights = np.zeros((n, 1))\n",
    "    #bias = 0\n",
    "    # Store loss history to visualize convergence\n",
    "    loss_history = []\n",
    "    for i in range(iterations):\n",
    "        # Forward propagation\n",
    "        z = np.dot(x_1, weights.T) \n",
    "        y_hat = sigmoid(z)\n",
    "        # Compute cost/loss\n",
    "        loss = loss_function(y, y_hat)\n",
    "        loss_history.append(loss)\n",
    "        # Backward propagation (gradient calculation)\n",
    "        gradients = (1/m) * np.dot(x_1.T, (y_hat - y_1))\n",
    "        # Update parameters \n",
    "        weights =weights - lr * gradients\n",
    "    return weights, loss_history\n"
   ]
  },
  {
   "cell_type": "code",
   "execution_count": null,
   "metadata": {
    "vscode": {
     "languageId": "plaintext"
    }
   },
   "outputs": [],
   "source": [
    "def predict(X, w):\n",
    "    z = np.dot(X, w)\n",
    "    A = sigmoid(z)\n",
    "    return (A >= 0.5).astype(int)"
   ]
  },
  {
   "cell_type": "code",
   "execution_count": null,
   "metadata": {
    "vscode": {
     "languageId": "plaintext"
    }
   },
   "outputs": [],
   "source": [
    "\n",
    "\n",
    "# 3.The initial hyper-parameters for this assignment are:\n",
    "# a)Threshold=0.5\n",
    "# b)Learning rate=0.5\n",
    "# c)Run your algorithm for 5000 iterations to update weights\n",
    "lr1=0.5\n",
    "iterations1=5000\n",
    "w_result, loss_result = gradient_descent (X_train, y_train, lr1,iterations1)"
   ]
  },
  {
   "cell_type": "code",
   "execution_count": null,
   "metadata": {
    "vscode": {
     "languageId": "plaintext"
    }
   },
   "outputs": [],
   "source": [
    "binary_predictions = predict(X_test,w_result)"
   ]
  },
  {
   "cell_type": "code",
   "execution_count": null,
   "metadata": {
    "vscode": {
     "languageId": "plaintext"
    }
   },
   "outputs": [],
   "source": [
    "# 4.Report the coefficient vector w\n",
    "print (\"The coefficient vector w was : \", w_result)\n",
    "\n",
    "# 5.For the test dataset, determine the\n",
    "# a)Precision\n",
    "# b)Recall\n",
    "# c)F1 score\n",
    "# d)Confusion matrix..\n",
    "# Evaluate the model - Make sure the correct variables are passed \n",
    "\n",
    "precision = precision_score(y_test, binary_predictions)\n",
    "recall = recall_score(y_test, binary_predictions)\n",
    "f1 = f1_score(y_test, binary_predictions)\n",
    "accuracy = accuracy_score(y_test, binary_predictions)\n",
    "conf_matrix = confusion_matrix(y_test, binary_predictions)\n",
    "\n",
    "# Display the results\n",
    "print(f\"Precision: {precision}\")\n",
    "print(f\"Recall: {recall}\")\n",
    "print(f\"F1 Score: {f1}\")\n",
    "print(f\"Accuracy: {accuracy}\")\n",
    "print(f\"Confusion Matrix:\\n{conf_matrix}\")"
   ]
  },
  {
   "cell_type": "code",
   "execution_count": null,
   "metadata": {
    "vscode": {
     "languageId": "plaintext"
    }
   },
   "outputs": [],
   "source": [
    "# 6.Plot the log loss on every 100th iteration of your gradient descent, \n",
    "# with the iterationnumber on the horizontal axis and the objective value on the vertical axis\n",
    "# Plot the log loss over iterations\n",
    "#plt.plot(range(0, iterations, 100), log_losses)\n",
    "#plt.xlabel(\"Iterations\")\n",
    "#plt.ylabel(\"Log Loss\")\n",
    "#plt.title(\"Log Loss over Iterations\")\n",
    "#plt.show()  \n",
    "\n",
    "#7.Use the test set as a validation set and see if you can find a better setting of thehyperparameters. Report the best values you found.\n",
    "w_result1, loss_result1 = gradient_descent (X_test, y_test, lr1,iterations1)\n",
    "binary_predictions1 = predict(X_train,w_result1)\n",
    "print (\"The coefficient vector w was : \", w_result1)\n",
    "\n",
    "precision = precision_score(y_train, binary_predictions1)\n",
    "recall = recall_score(y_train, binary_predictions1)\n",
    "f1 = f1_score(y_train, binary_prediction1s)\n",
    "accuracy = accuracy_score(y_train, binary_predictions1)\n",
    "conf_matrix = confusion_matrix(y_train, binary_predictions1)"
   ]
  }
 ],
 "metadata": {
  "language_info": {
   "name": "python"
  }
 },
 "nbformat": 4,
 "nbformat_minor": 2
}
